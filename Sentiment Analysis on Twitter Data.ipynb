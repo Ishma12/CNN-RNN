{
  "cells": [
    {
      "cell_type": "code",
      "execution_count": 61,
      "metadata": {
        "colab": {
          "base_uri": "https://localhost:8080/"
        },
        "id": "fKReYIfXAHUq",
        "outputId": "f6e16a8f-556c-4b11-fe61-9a6a98914650"
      },
      "outputs": [
        {
          "output_type": "stream",
          "name": "stdout",
          "text": [
            "Requirement already satisfied: emoji in /usr/local/lib/python3.10/dist-packages (2.8.0)\n"
          ]
        }
      ],
      "source": [
        "!pip install emoji"
      ]
    },
    {
      "cell_type": "code",
      "execution_count": 62,
      "metadata": {
        "colab": {
          "base_uri": "https://localhost:8080/"
        },
        "id": "4NA0Hg9E_xTQ",
        "outputId": "bf164150-bf47-4a8a-da48-36b9a4ae9037"
      },
      "outputs": [
        {
          "output_type": "stream",
          "name": "stdout",
          "text": [
            "Drive already mounted at /content/drive; to attempt to forcibly remount, call drive.mount(\"/content/drive\", force_remount=True).\n"
          ]
        }
      ],
      "source": [
        "from google.colab import drive\n",
        "drive.mount('/content/drive')"
      ]
    },
    {
      "cell_type": "code",
      "execution_count": 63,
      "metadata": {
        "id": "NVS7NhRu_0as"
      },
      "outputs": [],
      "source": [
        "data_dir = \"/content/drive/MyDrive/train_twitter.csv\""
      ]
    },
    {
      "cell_type": "code",
      "execution_count": 64,
      "metadata": {
        "colab": {
          "base_uri": "https://localhost:8080/"
        },
        "id": "ZyFZPUL7ABJt",
        "outputId": "b168ba45-c844-4cbc-fa37-7b2f7077518a"
      },
      "outputs": [
        {
          "output_type": "stream",
          "name": "stderr",
          "text": [
            "[nltk_data] Downloading package stopwords to /root/nltk_data...\n",
            "[nltk_data]   Package stopwords is already up-to-date!\n"
          ]
        }
      ],
      "source": [
        "#Import all necessary libraries\n",
        "import re\n",
        "import numpy as np\n",
        "import pandas as pd\n",
        "import matplotlib.pyplot as plt\n",
        "from tensorflow.keras.layers import Embedding,LSTM,Dense,Dropout,BatchNormalization\n",
        "from tensorflow.keras.preprocessing.sequence import pad_sequences\n",
        "from tensorflow.keras.models import Sequential\n",
        "from tensorflow.keras.preprocessing.text import one_hot\n",
        "from tensorflow.keras.preprocessing.text import Tokenizer\n",
        "import tensorflow as tf\n",
        "import nltk\n",
        "nltk.download('stopwords')\n",
        "import matplotlib.pyplot as plt\n",
        "import seaborn as sns\n",
        "from nltk.corpus import stopwords\n",
        "import emoji\n",
        "from nltk.stem.porter import PorterStemmer"
      ]
    },
    {
      "cell_type": "code",
      "execution_count": 65,
      "metadata": {
        "id": "tUYQ_cpv_6vG"
      },
      "outputs": [],
      "source": [
        "df = pd.read_csv(data_dir)"
      ]
    },
    {
      "cell_type": "code",
      "execution_count": 66,
      "metadata": {
        "id": "7JDbwV9OAObK"
      },
      "outputs": [],
      "source": [
        "df.dropna(inplace=True)"
      ]
    },
    {
      "cell_type": "code",
      "execution_count": 67,
      "metadata": {
        "colab": {
          "base_uri": "https://localhost:8080/"
        },
        "id": "QEzyt2IgARo1",
        "outputId": "86bb9fe3-b1b4-4131-9cd5-4a02e7567f98"
      },
      "outputs": [
        {
          "output_type": "execute_result",
          "data": {
            "text/plain": [
              "id       0\n",
              "label    0\n",
              "tweet    0\n",
              "dtype: int64"
            ]
          },
          "metadata": {},
          "execution_count": 67
        }
      ],
      "source": [
        "df.isnull().sum()"
      ]
    },
    {
      "cell_type": "code",
      "execution_count": 68,
      "metadata": {
        "colab": {
          "base_uri": "https://localhost:8080/"
        },
        "id": "4foYg8gZAUON",
        "outputId": "1f62e4d9-5cd0-4171-d257-db5b96da970d"
      },
      "outputs": [
        {
          "output_type": "stream",
          "name": "stdout",
          "text": [
            "          id  label                                              tweet\n",
            "0          1      0   @user when a father is dysfunctional and is s...\n",
            "1          2      0  @user @user thanks for #lyft credit i can't us...\n",
            "2          3      0                                bihday your majesty\n",
            "3          4      0  #model   i love u take with u all the time in ...\n",
            "4          5      0             factsguide: society now    #motivation\n",
            "...      ...    ...                                                ...\n",
            "31957  31958      0  ate @user isz that youuu?ðððððð...\n",
            "31958  31959      0    to see nina turner on the airwaves trying to...\n",
            "31959  31960      0  listening to sad songs on a monday morning otw...\n",
            "31960  31961      1  @user #sikh #temple vandalised in in #calgary,...\n",
            "31961  31962      0                   thank you @user for you follow  \n",
            "\n",
            "[31962 rows x 3 columns]\n"
          ]
        }
      ],
      "source": [
        "print(df)"
      ]
    },
    {
      "cell_type": "code",
      "execution_count": 69,
      "metadata": {
        "colab": {
          "base_uri": "https://localhost:8080/"
        },
        "id": "4bkE3d6EAXjX",
        "outputId": "e21f711c-788f-4434-8afe-ac2201646ecf"
      },
      "outputs": [
        {
          "output_type": "execute_result",
          "data": {
            "text/plain": [
              "0    29720\n",
              "1     2242\n",
              "Name: label, dtype: int64"
            ]
          },
          "metadata": {},
          "execution_count": 69
        }
      ],
      "source": [
        "label_counts = df['label'].value_counts()\n",
        "label_counts"
      ]
    },
    {
      "cell_type": "code",
      "execution_count": 70,
      "metadata": {
        "colab": {
          "base_uri": "https://localhost:8080/",
          "height": 573
        },
        "id": "ljV4D0V5Ac8L",
        "outputId": "59dad9a9-5391-4e23-b9cf-1c0b6c89a993"
      },
      "outputs": [
        {
          "output_type": "display_data",
          "data": {
            "text/plain": [
              "<Figure size 800x600 with 1 Axes>"
            ],
            "image/png": "[encoded data removed]"
          },
          "metadata": {}
        }
      ],
      "source": [
        "sns.set(style=\"whitegrid\")\n",
        "plt.figure(figsize=(8, 6))\n",
        "sns.countplot(x='label', data=df)\n",
        "plt.xlabel('Label')\n",
        "plt.ylabel('Count')\n",
        "plt.title('Distribution of positive and negitive tweets')\n",
        "\n",
        "plt.show()\n"
      ]
    },
    {
      "cell_type": "code",
      "execution_count": 71,
      "metadata": {
        "colab": {
          "base_uri": "https://localhost:8080/"
        },
        "id": "uiHJ3XlwBBvZ",
        "outputId": "c7835df1-54c6-476a-f795-1cd8294e4dc7"
      },
      "outputs": [
        {
          "output_type": "execute_result",
          "data": {
            "text/plain": [
              "(63924, 3)"
            ]
          },
          "metadata": {},
          "execution_count": 71
        }
      ],
      "source": [
        "positive = df[df['label']==0]\n",
        "negative = df[df['label']==1]\n",
        "df=pd.concat([df,positive,negative], axis=0)\n",
        "df.shape"
      ]
    },
    {
      "cell_type": "code",
      "execution_count": 72,
      "metadata": {
        "colab": {
          "base_uri": "https://localhost:8080/",
          "height": 129
        },
        "id": "esESoKUFBUrd",
        "outputId": "7604201d-3a6d-475c-8370-09118bff7fc5"
      },
      "outputs": [
        {
          "output_type": "display_data",
          "data": {
            "text/plain": [
              "   label\n",
              "0  59440\n",
              "1   4484"
            ],
            "text/html": [
              "\n",
              "  <div id=\"df-ee09f719-2ce7-48ce-a91f-3383a82b1c58\" class=\"colab-df-container\">\n",
              "    <div>\n",
              "<style scoped>\n",
              "    .dataframe tbody tr th:only-of-type {\n",
              "        vertical-align: middle;\n",
              "    }\n",
              "\n",
              "    .dataframe tbody tr th {\n",
              "        vertical-align: top;\n",
              "    }\n",
              "\n",
              "    .dataframe thead th {\n",
              "        text-align: right;\n",
              "    }\n",
              "</style>\n",
              "<table border=\"1\" class=\"dataframe\">\n",
              "  <thead>\n",
              "    <tr style=\"text-align: right;\">\n",
              "      <th></th>\n",
              "      <th>label</th>\n",
              "    </tr>\n",
              "  </thead>\n",
              "  <tbody>\n",
              "    <tr>\n",
              "      <th>0</th>\n",
              "      <td>59440</td>\n",
              "    </tr>\n",
              "    <tr>\n",
              "      <th>1</th>\n",
              "      <td>4484</td>\n",
              "    </tr>\n",
              "  </tbody>\n",
              "</table>\n",
              "</div>\n",
              "    <div class=\"colab-df-buttons\">\n",
              "\n",
              "  <div class=\"colab-df-container\">\n",
              "    <button class=\"colab-df-convert\" onclick=\"convertToInteractive('df-ee09f719-2ce7-48ce-a91f-3383a82b1c58')\"\n",
              "            title=\"Convert this dataframe to an interactive table.\"\n",
              "            style=\"display:none;\">\n",
              "\n",
              "  <svg xmlns=\"http://www.w3.org/2000/svg\" height=\"24px\" viewBox=\"0 -960 960 960\">\n",
              "    <path d=\"M120-120v-720h720v720H120Zm60-500h600v-160H180v160Zm220 220h160v-160H400v160Zm0 220h160v-160H400v160ZM180-400h160v-160H180v160Zm440 0h160v-160H620v160ZM180-180h160v-160H180v160Zm440 0h160v-160H620v160Z\"/>\n",
              "  </svg>\n",
              "    </button>\n",
              "\n",
              "  <style>\n",
              "    .colab-df-container {\n",
              "      display:flex;\n",
              "      gap: 12px;\n",
              "    }\n",
              "\n",
              "    .colab-df-convert {\n",
              "      background-color: #E8F0FE;\n",
              "      border: none;\n",
              "      border-radius: 50%;\n",
              "      cursor: pointer;\n",
              "      display: none;\n",
              "      fill: #1967D2;\n",
              "      height: 32px;\n",
              "      padding: 0 0 0 0;\n",
              "      width: 32px;\n",
              "    }\n",
              "\n",
              "    .colab-df-convert:hover {\n",
              "      background-color: #E2EBFA;\n",
              "      box-shadow: 0px 1px 2px rgba(60, 64, 67, 0.3), 0px 1px 3px 1px rgba(60, 64, 67, 0.15);\n",
              "      fill: #174EA6;\n",
              "    }\n",
              "\n",
              "    .colab-df-buttons div {\n",
              "      margin-bottom: 4px;\n",
              "    }\n",
              "\n",
              "    [theme=dark] .colab-df-convert {\n",
              "      background-color: #3B4455;\n",
              "      fill: #D2E3FC;\n",
              "    }\n",
              "\n",
              "    [theme=dark] .colab-df-convert:hover {\n",
              "      background-color: #434B5C;\n",
              "      box-shadow: 0px 1px 3px 1px rgba(0, 0, 0, 0.15);\n",
              "      filter: drop-shadow(0px 1px 2px rgba(0, 0, 0, 0.3));\n",
              "      fill: #FFFFFF;\n",
              "    }\n",
              "  </style>\n",
              "\n",
              "    <script>\n",
              "      const buttonEl =\n",
              "        document.querySelector('#df-ee09f719-2ce7-48ce-a91f-3383a82b1c58 button.colab-df-convert');\n",
              "      buttonEl.style.display =\n",
              "        google.colab.kernel.accessAllowed ? 'block' : 'none';\n",
              "\n",
              "      async function convertToInteractive(key) {\n",
              "        const element = document.querySelector('#df-ee09f719-2ce7-48ce-a91f-3383a82b1c58');\n",
              "        const dataTable =\n",
              "          await google.colab.kernel.invokeFunction('convertToInteractive',\n",
              "                                                    [key], {});\n",
              "        if (!dataTable) return;\n",
              "\n",
              "        const docLinkHtml = 'Like what you see? Visit the ' +\n",
              "          '<a target=\"_blank\" href=https://colab.research.google.com/notebooks/data_table.ipynb>data table notebook</a>'\n",
              "          + ' to learn more about interactive tables.';\n",
              "        element.innerHTML = '';\n",
              "        dataTable['output_type'] = 'display_data';\n",
              "        await google.colab.output.renderOutput(dataTable, element);\n",
              "        const docLink = document.createElement('div');\n",
              "        docLink.innerHTML = docLinkHtml;\n",
              "        element.appendChild(docLink);\n",
              "      }\n",
              "    </script>\n",
              "  </div>\n",
              "\n",
              "    </div>\n",
              "  </div>\n"
            ]
          },
          "metadata": {}
        },
        {
          "output_type": "stream",
          "name": "stdout",
          "text": [
            "0s : 1s ::  13.26 : 1\n"
          ]
        }
      ],
      "source": [
        "display(df['label'].value_counts().to_frame())\n",
        "\n",
        "print(\"0s : 1s :: \",(df['label'].value_counts()[0]/df['label'].value_counts()[1]).round(2),\": 1\")"
      ]
    },
    {
      "cell_type": "code",
      "execution_count": 73,
      "metadata": {
        "colab": {
          "base_uri": "https://localhost:8080/",
          "height": 413
        },
        "id": "KZab_aGsBbqV",
        "outputId": "43e8ddc9-8d76-4d45-9e84-cdf6f5fdf74c"
      },
      "outputs": [
        {
          "output_type": "display_data",
          "data": {
            "text/plain": [
              "<Figure size 600x400 with 1 Axes>"
            ],
            "image/png": "[encoded data removed]"
          },
          "metadata": {}
        }
      ],
      "source": [
        "\n",
        "label_counts = df['label'].value_counts()\n",
        "\n",
        "plt.figure(figsize=(6, 4))\n",
        "label_counts.plot(kind='bar', color='skyblue')\n",
        "plt.xlabel('Labels')\n",
        "plt.ylabel('Count')\n",
        "plt.title('Label Distribution')\n",
        "\n",
        "\n",
        "plt.show()\n"
      ]
    },
    {
      "cell_type": "code",
      "execution_count": 74,
      "metadata": {
        "id": "mYgPvCA7N-QB"
      },
      "outputs": [],
      "source": [
        "# Split into dependent (y) and independent (X) variables\n",
        "y = df['label']\n",
        "X = df['tweet']"
      ]
    },
    {
      "cell_type": "code",
      "execution_count": 75,
      "metadata": {
        "id": "WynfJUJkCM_p"
      },
      "outputs": [],
      "source": [
        "# Remove emojis using a regular expression\n",
        "emoji_pattern = re.compile(\"[\"\n",
        "                               u\"\\U0001F600-\\U0001F64F\"\n",
        "                               u\"\\U0001F300-\\U0001F5FF\"\n",
        "                               u\"\\U0001F680-\\U0001F6FF\"\n",
        "                               u\"\\U0001F700-\\U0001F77F\"\n",
        "                               u\"\\U0001F780-\\U0001F7FF\"\n",
        "                               u\"\\U0001F800-\\U0001F8FF\"\n",
        "                               u\"\\U0001F900-\\U0001F9FF\"\n",
        "                               u\"\\U0001FA00-\\U0001FA6F\"\n",
        "                               u\"\\U0001FA70-\\U0001FAFF\"\n",
        "                               u\"\\U0001F004-\\U0001F0CF\"\n",
        "                               u\"\\U0001F170-\\U0001F251\"\n",
        "                               \"]+\", flags=re.UNICODE)\n",
        "\n"
      ]
    },
    {
      "cell_type": "code",
      "execution_count": 76,
      "metadata": {
        "id": "x67GIScnCmH_"
      },
      "outputs": [],
      "source": [
        "def remove_urls(text):\n",
        "    url_pattern = re.compile(r'https?://\\S+|www\\.\\S+')\n",
        "    return url_pattern.sub(r'', text)"
      ]
    },
    {
      "cell_type": "code",
      "execution_count": 77,
      "metadata": {
        "id": "DO8blsr3CzR7"
      },
      "outputs": [],
      "source": [
        "\n",
        "def clean_text(text):\n",
        "    text=remove_urls(text)\n",
        "    text = re.sub(r'@[\\w_]+', '', text)\n",
        "    text = re.sub('[^A-Za-z\\s]', '', text)\n",
        "    text = emoji_pattern.sub('', text)\n",
        "    text = text.lower()\n",
        "    text = re.sub('\\d+', '', text)\n",
        "    text = text.strip()\n",
        "    text = re.sub(\" +\", \" \", text)\n",
        "\n",
        "    return text\n",
        "\n",
        "\n",
        "# Apply the clean_text function to the 'tweet' column in your dataset\n",
        "df['cleaned_tweet'] = df['tweet'].apply(clean_text)\n",
        "\n",
        "df['cleaned_tweet'] = df['cleaned_tweet'].str.split()\n",
        "\n",
        "\n",
        "# Remove stop words with NLTK\n",
        "stop_words = set(stopwords.words('english'))\n",
        "df['cleaned_tweet'] = df['cleaned_tweet'].apply(lambda tokens: [word for word in tokens if word not in stop_words])\n",
        "\n",
        "# Initialize the Porter Stemmer\n",
        "stemmer = PorterStemmer()\n",
        "\n",
        "# Apply stemming to the cleaned text data\n",
        "df['cleaned_tweet'] = df['cleaned_tweet'].apply(lambda tokens: [stemmer.stem(word) for word in tokens])\n",
        "\n",
        "\n",
        "# Create a list of cleaned texts\n",
        "cleaned_tweet = [\" \".join(tokens) for tokens in df['cleaned_tweet']]\n"
      ]
    },
    {
      "cell_type": "code",
      "execution_count": 78,
      "metadata": {
        "colab": {
          "base_uri": "https://localhost:8080/"
        },
        "id": "HNRzrvkWDiFY",
        "outputId": "05b0c0c9-1913-4b56-8d0d-addc991b91f0"
      },
      "outputs": [
        {
          "output_type": "stream",
          "name": "stdout",
          "text": [
            "Max length of a single tweet is now :  274\n"
          ]
        }
      ],
      "source": [
        "max_length_cleaned = max(len(tweet) for tweet in df[\"tweet\"])\n",
        "\n",
        "print(\"Max length of a single tweet is now : \", max_length_cleaned)"
      ]
    },
    {
      "cell_type": "code",
      "execution_count": 79,
      "metadata": {
        "colab": {
          "base_uri": "https://localhost:8080/"
        },
        "id": "eT2woegUE8c0",
        "outputId": "f1b827cf-e2d9-443d-ae2f-9ed4da914573"
      },
      "outputs": [
        {
          "output_type": "stream",
          "name": "stdout",
          "text": [
            "Max length of a single tweet is now :  23\n"
          ]
        }
      ],
      "source": [
        "max_length_cleaned = max(len(tweet) for tweet in df[\"cleaned_tweet\"])\n",
        "\n",
        "print(\"Max length of a single tweet is now : \", max_length_cleaned)"
      ]
    },
    {
      "cell_type": "code",
      "execution_count": 80,
      "metadata": {
        "colab": {
          "base_uri": "https://localhost:8080/"
        },
        "id": "-ZFtFIMSFBr8",
        "outputId": "35bd2206-8a7a-4c36-e963-f093480a304d"
      },
      "outputs": [
        {
          "output_type": "execute_result",
          "data": {
            "text/plain": [
              "array([[   0,    0,    0, ..., 1796,  125,  188],\n",
              "       [   0,    0,    0, ...,  421,   28,  859],\n",
              "       [   0,    0,    0, ...,    0,   20, 2808],\n",
              "       ...,\n",
              "       [   0,    0,    0, ...,   66,  244, 1678],\n",
              "       [   0,    0,    0, ...,  261,    5,  140],\n",
              "       [   0,    0,    0, ..., 1417, 1116,  367]], dtype=int32)"
            ]
          },
          "metadata": {},
          "execution_count": 80
        }
      ],
      "source": [
        "\n",
        "# Allocate dictionary size\n",
        "vocab_size = 3000\n",
        "\n",
        "# Create a tokenizer\n",
        "tokenizer = Tokenizer(num_words=vocab_size)\n",
        "\n",
        "# Fit the tokenizer on the text\n",
        "tokenizer.fit_on_texts(cleaned_tweet)\n",
        "\n",
        "# Convert text to sequences of integers (one-hot encoding)\n",
        "one_hot_encoded = tokenizer.texts_to_sequences(cleaned_tweet)\n",
        "\n",
        "# Define the maximum sequence length\n",
        "max_sequence_length =50\n",
        "\n",
        "# Pad sequences to have the same length\n",
        "padded_sequences = pad_sequences(one_hot_encoded, maxlen=max_sequence_length, padding='pre')\n",
        "\n",
        "# 'padded_sequences' now contains your one-hot encoded and padded text data\n",
        "padded_sequences"
      ]
    },
    {
      "cell_type": "code",
      "execution_count": 81,
      "metadata": {
        "id": "L4R7oDR6F-AX"
      },
      "outputs": [],
      "source": [
        "#convert in numpy arrays.\n",
        "x = np.array(padded_sequences)\n",
        "y = np.array(y)"
      ]
    },
    {
      "cell_type": "code",
      "execution_count": 82,
      "metadata": {
        "id": "8kp59998GJmd"
      },
      "outputs": [],
      "source": [
        "#Splitting the Dataset into Train and Test set\n",
        "from sklearn.model_selection import train_test_split\n",
        "x_train,x_test,y_train,y_test=train_test_split(x,y,test_size=0.2,random_state=0)"
      ]
    },
    {
      "cell_type": "code",
      "execution_count": 83,
      "metadata": {
        "colab": {
          "base_uri": "https://localhost:8080/"
        },
        "id": "fcRsbkTYGjD0",
        "outputId": "539a947f-c21b-4bad-894f-cdf43eaff25b"
      },
      "outputs": [
        {
          "output_type": "stream",
          "name": "stdout",
          "text": [
            "Model: \"sequential_2\"\n",
            "_________________________________________________________________\n",
            " Layer (type)                Output Shape              Param #   \n",
            "=================================================================\n",
            " embedding_2 (Embedding)     (None, 50, 64)            192000    \n",
            "                                                                 \n",
            " lstm_2 (LSTM)               (None, 100)               66000     \n",
            "                                                                 \n",
            " dropout_2 (Dropout)         (None, 100)               0         \n",
            "                                                                 \n",
            " dense_2 (Dense)             (None, 1)                 101       \n",
            "                                                                 \n",
            "=================================================================\n",
            "Total params: 258,101\n",
            "Trainable params: 258,101\n",
            "Non-trainable params: 0\n",
            "_________________________________________________________________\n",
            "Epoch 1/10\n",
            "1599/1599 [==============================] - 147s 86ms/step - loss: 0.2174 - accuracy: 0.9497 - val_loss: 0.1639 - val_accuracy: 0.9587\n",
            "Epoch 2/10\n",
            "1599/1599 [==============================] - 119s 74ms/step - loss: 0.1588 - accuracy: 0.9627 - val_loss: 0.1736 - val_accuracy: 0.9645\n",
            "Epoch 3/10\n",
            "1599/1599 [==============================] - 119s 75ms/step - loss: 0.1404 - accuracy: 0.9670 - val_loss: 0.1503 - val_accuracy: 0.9658\n",
            "Epoch 4/10\n",
            "1599/1599 [==============================] - 123s 77ms/step - loss: 0.1254 - accuracy: 0.9716 - val_loss: 0.1695 - val_accuracy: 0.9713\n",
            "Epoch 5/10\n",
            "1599/1599 [==============================] - 117s 73ms/step - loss: 0.1067 - accuracy: 0.9790 - val_loss: 0.1658 - val_accuracy: 0.9729\n",
            "Epoch 6/10\n",
            "1599/1599 [==============================] - 116s 73ms/step - loss: 0.0966 - accuracy: 0.9826 - val_loss: 0.1789 - val_accuracy: 0.9759\n",
            "Epoch 7/10\n",
            "1599/1599 [==============================] - 119s 75ms/step - loss: 0.0935 - accuracy: 0.9843 - val_loss: 0.1788 - val_accuracy: 0.9778\n",
            "Epoch 8/10\n",
            "1599/1599 [==============================] - 151s 94ms/step - loss: 0.0942 - accuracy: 0.9863 - val_loss: 0.2039 - val_accuracy: 0.9742\n",
            "Epoch 9/10\n",
            "1599/1599 [==============================] - 154s 96ms/step - loss: 0.0867 - accuracy: 0.9884 - val_loss: 0.1917 - val_accuracy: 0.9803\n",
            "Epoch 10/10\n",
            "1599/1599 [==============================] - 122s 76ms/step - loss: 0.0804 - accuracy: 0.9908 - val_loss: 0.2031 - val_accuracy: 0.9792\n"
          ]
        }
      ],
      "source": [
        "from tensorflow.keras import regularizers\n",
        "from tensorflow.keras.callbacks import EarlyStopping\n",
        "#create the model using LSTM\n",
        "model = Sequential()\n",
        "model.add(Embedding(vocab_size,64,input_length = len(padded_sequences[0])))\n",
        "model.add(LSTM(100))\n",
        "model.add(Dropout(0.5))\n",
        "model.add(Dense(1,activation=\"relu\",kernel_regularizer=regularizers.l2(0.01)))\n",
        "model.compile(loss=\"binary_crossentropy\",optimizer=\"adam\",metrics=[\"accuracy\"])\n",
        "early_stopping = EarlyStopping(monitor='val_loss', patience=2)\n",
        "model.summary()\n",
        "history = model.fit(x_train, y_train, validation_data = (x_test,y_test), epochs = 10, batch_size = 32)\n",
        "\n"
      ]
    },
    {
      "cell_type": "code",
      "execution_count": 84,
      "metadata": {
        "colab": {
          "base_uri": "https://localhost:8080/"
        },
        "id": "vfJLopA9S3Ca",
        "outputId": "5b2c9eee-776b-49db-9c6d-239feb6d7734"
      },
      "outputs": [
        {
          "output_type": "stream",
          "name": "stderr",
          "text": [
            "WARNING:absl:Found untraced functions such as _update_step_xla, lstm_cell_4_layer_call_fn, lstm_cell_4_layer_call_and_return_conditional_losses while saving (showing 3 of 3). These functions will not be directly callable after loading.\n"
          ]
        }
      ],
      "source": [
        "model.save('new_model')"
      ]
    },
    {
      "cell_type": "code",
      "execution_count": 85,
      "metadata": {
        "colab": {
          "base_uri": "https://localhost:8080/",
          "height": 496
        },
        "id": "gGNNdzN1HOnv",
        "outputId": "decd216f-1812-480b-d516-fb91589d8619"
      },
      "outputs": [
        {
          "output_type": "display_data",
          "data": {
            "text/plain": [
              "<Figure size 1200x500 with 2 Axes>"
            ],
            "image/png": "[encoded data removed]"
          },
          "metadata": {}
        }
      ],
      "source": [
        "\n",
        "training_loss = history.history['loss']\n",
        "training_accuracy = history.history['accuracy']\n",
        "validation_loss = history.history['val_loss']\n",
        "validation_accuracy = history.history['val_accuracy']\n",
        "\n",
        "fig, (ax1, ax2) = plt.subplots(1, 2, figsize=(12, 5))\n",
        "\n",
        "\n",
        "ax1.plot(training_loss, label='Training Loss', color='blue')\n",
        "ax1.plot(validation_loss, label='Validation Loss', color='red')\n",
        "ax1.set_title('Training and Validation Loss')\n",
        "ax1.set_xlabel('Epochs')\n",
        "ax1.set_ylabel('Loss')\n",
        "ax1.legend()\n",
        "\n",
        "\n",
        "ax2.plot(training_accuracy, label='Training Accuracy', color='blue')\n",
        "ax2.plot(validation_accuracy, label='Validation Accuracy', color='red')\n",
        "ax2.set_title('Training and Validation Accuracy')\n",
        "ax2.set_xlabel('Epochs')\n",
        "ax2.set_ylabel('Accuracy')\n",
        "ax2.legend()\n",
        "\n",
        "\n",
        "plt.show()\n"
      ]
    },
    {
      "cell_type": "code",
      "execution_count": 86,
      "metadata": {
        "colab": {
          "base_uri": "https://localhost:8080/"
        },
        "id": "J3KcjUOmIbfb",
        "outputId": "12be7163-d02a-4ca6-a3c8-1749d4132054"
      },
      "outputs": [
        {
          "output_type": "stream",
          "name": "stdout",
          "text": [
            "400/400 [==============================] - 9s 20ms/step\n",
            "Accuracy: 0.9792\n",
            "Precision: 0.8790\n",
            "Recall: 0.8258\n",
            "F1 Score: 0.8516\n",
            "Confusion Matrix:\n",
            "[[11756   105]\n",
            " [  161   763]]\n"
          ]
        }
      ],
      "source": [
        "# Import necessary libraries for evaluation\n",
        "from sklearn.metrics import accuracy_score, precision_score, recall_score, f1_score, confusion_matrix\n",
        "\n",
        "# Make predictions on the test data\n",
        "y_pred = model.predict(x_test)\n",
        "y_pred_binary = [1 if pred >= 0.5 else 0 for pred in y_pred]\n",
        "\n",
        "# Calculate accuracy\n",
        "accuracy = accuracy_score(y_test, y_pred_binary)\n",
        "\n",
        "# Calculate precision, recall, and F1-score\n",
        "precision = precision_score(y_test, y_pred_binary)\n",
        "recall = recall_score(y_test, y_pred_binary)\n",
        "f1 = f1_score(y_test, y_pred_binary)\n",
        "\n",
        "# Calculate confusion matrix\n",
        "conf_matrix = confusion_matrix(y_test, y_pred_binary)\n",
        "\n",
        "# Print the evaluation metrics\n",
        "print(f\"Accuracy: {accuracy:.4f}\")\n",
        "print(f\"Precision: {precision:.4f}\")\n",
        "print(f\"Recall: {recall:.4f}\")\n",
        "print(f\"F1 Score: {f1:.4f}\")\n",
        "print(\"Confusion Matrix:\")\n",
        "print(conf_matrix)\n"
      ]
    },
    {
      "cell_type": "code",
      "execution_count": 87,
      "metadata": {
        "id": "4p3Q3ZWZQrxI",
        "colab": {
          "base_uri": "https://localhost:8080/",
          "height": 480
        },
        "outputId": "5f7347c1-f7bc-4f74-dd10-fa19afc6f5ed"
      },
      "outputs": [
        {
          "output_type": "display_data",
          "data": {
            "text/plain": [
              "<Figure size 640x480 with 2 Axes>"
            ],
            "image/png": "[encoded data removed]"
          },
          "metadata": {}
        }
      ],
      "source": [
        "\n",
        "# Create a heatmap of the confusion matrix\n",
        "sns.heatmap(conf_matrix, annot=True, cmap='Blues', fmt='g')\n",
        "\n",
        "# Set axis labels and title\n",
        "plt.xlabel('Predicted')\n",
        "plt.ylabel('Actual')\n",
        "plt.title('Confusion Matrix')\n",
        "\n",
        "# Show the plot\n",
        "plt.show()"
      ]
    },
    {
      "cell_type": "code",
      "execution_count": 88,
      "metadata": {
        "colab": {
          "base_uri": "https://localhost:8080/"
        },
        "id": "sAlzYh3eQvYp",
        "outputId": "b96f0d4c-8e39-4cb9-d30b-8df009ef91ef"
      },
      "outputs": [
        {
          "output_type": "stream",
          "name": "stdout",
          "text": [
            "538/538 [==============================] - 10s 18ms/step\n"
          ]
        }
      ],
      "source": [
        "# Loading LSTM model\n",
        "from tensorflow.keras.models import load_model\n",
        "\n",
        "# Load your previously trained model\n",
        "model = load_model('new_model')\n",
        "\n",
        "import pandas as pd\n",
        "import re\n",
        "from nltk.corpus import stopwords\n",
        "from keras.preprocessing.text import Tokenizer\n",
        "\n",
        "\n",
        "test_file = '/content/drive/MyDrive/test_twitter.csv'\n",
        "stop_words = set(stopwords.words('english'))\n",
        "\n",
        "# Load the test dataset\n",
        "test_data = pd.read_csv(test_file)\n",
        "\n",
        "# Clean and preprocess the test data\n",
        "test_data['tweet'] = test_data['tweet'].apply(lambda x: re.sub('[^a-zA-Z\\ ]', ' ', emoji.demojize(x)))\n",
        "test_data['tweet'] = test_data['tweet'].apply(lambda x: remove_urls(x))\n",
        "test_data['tweet'] = test_data['tweet'].apply(lambda x: x.lower())\n",
        "test_data['tweet'] = test_data['tweet'].apply(lambda x: x.split())\n",
        "test_data['tweet'] = test_data['tweet'].apply(lambda x: [word for word in x if word not in stop_words])\n",
        "test_data['tweet'] = test_data['tweet'].apply(lambda x: [stemmer.stem(word) for word in x])\n",
        "test_data['tweet'] = test_data['tweet'].apply(lambda x: ' '.join(x))\n",
        "\n",
        "# Tokenize and pad the test data\n",
        "max_words = 3000\n",
        "maxlen = 50\n",
        "\n",
        "tokenizer = Tokenizer(num_words=max_words)\n",
        "tokenizer.fit_on_texts(test_data['tweet'])\n",
        "test_sequences = tokenizer.texts_to_sequences(test_data['tweet'])\n",
        "test_sequences = pad_sequences(test_sequences, maxlen=maxlen)\n",
        "\n",
        "# Make predictions on the test data using the LSTM model\n",
        "predictions = model.predict(test_sequences)\n",
        "\n",
        "\n"
      ]
    },
    {
      "cell_type": "code",
      "execution_count": 89,
      "metadata": {
        "colab": {
          "base_uri": "https://localhost:8080/"
        },
        "id": "yP5fwDsXcKbk",
        "outputId": "5e4e46b1-63d1-404a-9c21-db26bcf09347"
      },
      "outputs": [
        {
          "output_type": "execute_result",
          "data": {
            "text/plain": [
              "array([[0.],\n",
              "       [0.],\n",
              "       [0.],\n",
              "       ...,\n",
              "       [0.],\n",
              "       [0.],\n",
              "       [0.]], dtype=float32)"
            ]
          },
          "metadata": {},
          "execution_count": 89
        }
      ],
      "source": [
        "predictions"
      ]
    },
    {
      "cell_type": "code",
      "execution_count": 91,
      "metadata": {
        "colab": {
          "base_uri": "https://localhost:8080/"
        },
        "id": "8zdkFlzyhgJu",
        "outputId": "6f853cd8-e027-4990-b65e-3b6ba2e421a3"
      },
      "outputs": [
        {
          "output_type": "stream",
          "name": "stdout",
          "text": [
            "Non racist/sexist: 16824\n",
            "Racist/sexist: 373\n"
          ]
        }
      ],
      "source": [
        "threshold = 1  # 1 vanda badi vayo vani racist/sexist\n",
        "\n",
        "positive_count = 0\n",
        "negative_count = 0\n",
        "\n",
        "for prediction in predictions:\n",
        "    if prediction < threshold:\n",
        "        positive_count += 1\n",
        "    else:\n",
        "        negative_count += 1\n",
        "\n",
        "print(\"Non racist/sexist:\", positive_count)\n",
        "print(\"Racist/sexist:\", negative_count)"
      ]
    }
  ],
  "metadata": {
    "colab": {
      "provenance": []
    },
    "kernelspec": {
      "display_name": "Python 3",
      "name": "python3"
    },
    "language_info": {
      "name": "python"
    }
  },
  "nbformat": 4,
  "nbformat_minor": 0
}